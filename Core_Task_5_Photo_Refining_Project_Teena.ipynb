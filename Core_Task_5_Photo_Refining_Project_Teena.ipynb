{
  "nbformat": 4,
  "nbformat_minor": 0,
  "metadata": {
    "colab": {
      "name": "Core Task 5_Photo Refining Project_Teena.ipynb",
      "provenance": [],
      "collapsed_sections": []
    },
    "kernelspec": {
      "name": "python3",
      "display_name": "Python 3"
    },
    "language_info": {
      "name": "python"
    }
  },
  "cells": [
    {
      "cell_type": "markdown",
      "source": [
        "#**The Entreprenuership Network**"
      ],
      "metadata": {
        "id": "1uRJdysK2cYa"
      }
    },
    {
      "cell_type": "markdown",
      "source": [
        "#**CORE TASK 5 - Create a Photo refining project.**"
      ],
      "metadata": {
        "id": "60F2Egnm2etR"
      }
    },
    {
      "cell_type": "markdown",
      "source": [
        "**Author Name : Teena Joseph(MSC DA), Rajagiri College of Social Sciences**"
      ],
      "metadata": {
        "id": "XVNZvVz52kYV"
      }
    },
    {
      "cell_type": "markdown",
      "source": [
        "#Import Libraries\n"
      ],
      "metadata": {
        "id": "esrP2PgFauk2"
      }
    },
    {
      "cell_type": "code",
      "execution_count": null,
      "metadata": {
        "id": "lIzg-n4EYksf"
      },
      "outputs": [],
      "source": [
        "from PIL import Image, ImageFilter \n",
        "import matplotlib.pyplot as plt\n",
        "import numpy as np\n",
        "%matplotlib inline  "
      ]
    },
    {
      "cell_type": "markdown",
      "source": [
        "#Reading Images"
      ],
      "metadata": {
        "id": "BmP26oY-a2O0"
      }
    },
    {
      "cell_type": "code",
      "source": [
        "image=Image.open(\"image.jpg\")\n",
        "image2=Image.open(\"image2.jpg\")"
      ],
      "metadata": {
        "id": "JAPbYvJVag0g"
      },
      "execution_count": null,
      "outputs": []
    },
    {
      "cell_type": "markdown",
      "source": [
        "#Displaying"
      ],
      "metadata": {
        "id": "jHy_Abr3bCk0"
      }
    },
    {
      "cell_type": "code",
      "source": [
        "def read_image():\n",
        "    img = Image.open(\"my_image.png\")\n",
        "    width, height = img.size\n",
        "    print(width,height)\n",
        "    img.show()\n"
      ],
      "metadata": {
        "id": "mx1lcsFKasj7"
      },
      "execution_count": null,
      "outputs": []
    },
    {
      "cell_type": "markdown",
      "source": [
        "#Cropping"
      ],
      "metadata": {
        "id": "b2FVCHTYbwt4"
      }
    },
    {
      "cell_type": "code",
      "source": [
        "def crop_image():\n",
        "    img = Image.open(\"my_image.png\")\n",
        "    width, height = img.size\n",
        "    left = 0\n",
        "    top = 0\n",
        "    right = width\n",
        "    bottom = height / 2\n",
        "    img = img.crop((left,top,right,bottom))\n",
        "    img.save('cropped_image.png')"
      ],
      "metadata": {
        "id": "FgCGtYcxb1Lg"
      },
      "execution_count": null,
      "outputs": []
    },
    {
      "cell_type": "markdown",
      "source": [
        "#Resizing the image"
      ],
      "metadata": {
        "id": "uJHFXTwKcFDc"
      }
    },
    {
      "cell_type": "code",
      "source": [
        "def resize_image():\n",
        "    img = Image.open(\"my_image.png\")\n",
        "    width, height = img.size\n",
        "    img = img.resize((int(width/2),int(height/2)))\n",
        "    img.save('resized_image.png')"
      ],
      "metadata": {
        "id": "KaKawAB7cHe7"
      },
      "execution_count": null,
      "outputs": []
    },
    {
      "cell_type": "markdown",
      "source": [
        "#adding filters to an image"
      ],
      "metadata": {
        "id": "H0yGKNPUcUp1"
      }
    },
    {
      "cell_type": "code",
      "source": [
        "def add_filters():\n",
        "    img = Image.open('my_image.png')\n",
        "    contour_image = img.filter(ImageFilter.CONTOUR)\n",
        "    contour_image.save('Contour_image.png')\n",
        "    # DETAIL FILTER\n",
        "    detail_image = img.filter(ImageFilter.DETAIL)\n",
        "    detail_image.save('detail_image.png')\n",
        "    # EDGE ENHANCE FILTER\n",
        "    edge_enhance_image = img.filter(ImageFilter.EDGE_ENHANCE)\n",
        "    edge_enhance_image.save('edge_image.png')\n",
        "    # SMOOTH FILTER\n",
        "    smooth_image = img.filter(ImageFilter.SMOOTH)\n",
        "    smooth_image.save('smooth_image.png')"
      ],
      "metadata": {
        "id": "rddN8ZHocsHk"
      },
      "execution_count": null,
      "outputs": []
    },
    {
      "cell_type": "markdown",
      "source": [
        "#Rotate an image"
      ],
      "metadata": {
        "id": "PG-GM9Uef_cT"
      }
    },
    {
      "cell_type": "code",
      "source": [
        "def rotate_image():\n",
        "    img = Image.open('my_image.png')\n",
        "    img = img.transpose(Image.FLIP_LEFT_RIGHT)\n",
        "    img.save('rotated_image.png')"
      ],
      "metadata": {
        "id": "dDYdK_iv1G9s"
      },
      "execution_count": null,
      "outputs": []
    },
    {
      "cell_type": "markdown",
      "source": [
        "# Blend an image"
      ],
      "metadata": {
        "id": "dwIc6IG6spqp"
      }
    },
    {
      "cell_type": "code",
      "source": [
        "def blend_images():\n",
        "    width = height = 500\n",
        "    img = Image.open('my_image.png')\n",
        "    img = img.resize((width,height))\n",
        "    img2 = Image.open('pattern_image.png')\n",
        "    img2 = img2.resize((width,height))\n",
        "    op_image = Image.blend(img,img2,0.4)\n",
        "    op_image.save('blended_image.png')    \n"
      ],
      "metadata": {
        "id": "fIAOATubf-W2"
      },
      "execution_count": null,
      "outputs": []
    },
    {
      "cell_type": "markdown",
      "source": [
        "# Main Function"
      ],
      "metadata": {
        "id": "p3gZHcc71Upe"
      }
    },
    {
      "cell_type": "code",
      "source": [
        "if __name__ == '__main__':\n",
        "    read_image()\n",
        "    crop_image()\n",
        "    resize_image()\n",
        "    add_filters()\n",
        "    rotate_image()\n",
        "    blend_images()\n",
        "view rawphoto_edit.py hosted "
      ],
      "metadata": {
        "id": "RMhKPQYf1ZDe"
      },
      "execution_count": null,
      "outputs": []
    }
  ]
}